{
 "cells": [
  {
   "cell_type": "code",
   "execution_count": null,
   "metadata": {},
   "outputs": [],
   "source": [
    "from swarmagent.environments.environment import Environment\n",
    "from swarmagent.agent.agent import Agent\n",
    "from swarmagent.group.com_group import ComGroup"
   ]
  },
  {
   "cell_type": "code",
   "execution_count": null,
   "metadata": {},
   "outputs": [],
   "source": [
    "import json\n",
    "\n",
    "env_desc_total = \"\"\"\n",
    "环境名称：现代城市社区\n",
    "环境描述：这是一个充满活力的现代社区，高耸的楼宇映衬着无尽的繁忙，而街边琳琅满目的小商贩则赋予了这个正值春季的社区独特的喧闹与温暖。从早到晚，商贩们的吆喝声与小贩的热烈交谈声音往往与社区居民的宁静生活形成鲜明对比，这就是我们要聚焦的现代社区场景。\n",
    "环境主题：路边商贩与社区居民的声音冲突\n",
    "\"\"\"\n",
    "group_desc_total = \"\"\"\n",
    "{\"name\":\"俏皮小贩\",\"desc\":\"他们是社区生活中不可或缺的一部分，在繁忙的时候，他们的一呼一吸都充满了活力。然而，他们的存在却也引发了噪音问题，使得他们的生活方式与邻近居民的生活格格不入。\"},{\"name\":\"社区居民\",\"desc\":\"他们追求安静的生活，在享受都市生活的便利的同时，也希望能拥有一个宁静的居住环境。然而，商贩们的喧闹声音打破了他们的期望，从而使他们开始寻找解决之道。\"},{\"name\":\"社区管理机构\",\"desc\":\"他们旨在为社区居民和商贩提供一个良好而公平的生活环境。所以他们始终在尝试平衡双方的利益，并在这个过程中，他们的观点不断演变，应对日益严重的噪声冲突问题。\"}\n",
    "\"\"\"\n",
    "\n",
    "result = '{\"俏皮小贩\": [{\"name\": \"王大力\", \"traits\": [\"暴躁\", \"说话粗鲁\", \"吵闹\"], \"age\": 32, \"gender\": \"男\", \"occupation\": \"水果摊贩\", \"mbti\": \"ESTP\", \"description\": [\"社区里的活雷锋\", \"每天都能听到他的吆喝声\", \"对待顾客总是笑脸迎人\"]}, {\"name\": \"李娟娟\", \"traits\": [\"率直\", \"健谈\", \"讲话干净利索，不说废话\"], \"age\": 28, \"gender\": \"女\", \"occupation\": \"小吃摊主\", \"mbti\": \"ESFJ\", \"description\": [\"她的小吃摊总是干净整洁\", \"热心肠，经常帮助老人购物\", \"小区里的美食使者\"]}, {\"name\": \"赵刚\", \"traits\": [\"无法妥协\", \"直率\", \"偶尔粗鲁\"], \"age\": 45, \"gender\": \"男\", \"occupation\": \"街头服装摊主\", \"mbti\": \"ESTJ\", \"description\": [\"生意经验丰富\", \"有时候讲话声音太大\", \"衣服质量不错但退货时态度差\"]}], \"社区居民\": [{\"name\": \"张静\", \"traits\": [\"讲话逻辑不清\", \"火气大\", \"爱说废话\"], \"age\": 35, \"gender\": \"女\", \"occupation\": \"图书管理员\", \"mbti\": \"ISFJ\", \"description\": [\"总是希望周围更安静\", \"对噪音十分敏感\", \"经常向社区管理机构投诉噪音问题\"]}, {\"name\": \"刘波\", \"traits\": [\"易怒\", \"不冷静\", \"不善交际，总是想激化矛盾\"], \"age\": 40, \"gender\": \"男\", \"occupation\": \"软件工程师\", \"mbti\": \"INTP\", \"description\": [\"工作需要高度集中的环境\", \"经常抱怨街边的吵闹\", \"偏好夜晚出行以避开喧嚣\"]}, {\"name\": \"陈萍\", \"traits\": [\"看不起人\", \"易怒\", \"偶尔固执\"], \"age\": 33, \"gender\": \"女\", \"occupation\": \"会计\", \"mbti\": \"ISTJ\", \"description\": [\"喜欢一切井井有条\", \"对邻里的噪音颇有微词\", \"试图推动更多的社区安静措施\"]}], \"社区管理机构\": [{\"name\": \"孙明\", \"traits\": [\"公正\", \"严肃\", \"办事效率高\"], \"age\": 50, \"gender\": \"男\", \"occupation\": \"社区主任\", \"mbti\": \"ENTJ\", \"description\": [\"经常处理居民和小贩之间的冲突\", \"力求公平处理每一次投诉\", \"有时候过于严厉\"]}, {\"name\": \"魏红\", \"traits\": [\"善解人意\", \"温和\", \"有耐心\"], \"age\": 38, \"gender\": \"女\", \"occupation\": \"社区工作人员\", \"mbti\": \"INFJ\", \"description\": [\"常常是居民和小贩沟通的桥梁\", \"努力使社区生活更和谐\", \"居民们都觉得她是可靠的朋友\"]}, {\"name\": \"李刚\", \"traits\": [\"实干家\", \"直接\", \"时而缺乏同理心\"], \"age\": 42, \"gender\": \"男\", \"occupation\": \"治安负责人\", \"mbti\": \"ESTJ\", \"description\": [\"保持社区治安是他的首要任务\", \"处理问题往往直截了当\", \"有时对居民的小问题不够耐心\"]}]}'\n",
    "result = json.loads(result)"
   ]
  },
  {
   "cell_type": "code",
   "execution_count": null,
   "metadata": {},
   "outputs": [],
   "source": [
    "# 读取Agent JSON 数据\n",
    "agent_dict = {}\n",
    "storage_path = \"storage/Community/\"\n",
    "for group, group_agent in result.items():\n",
    "    print(group)\n",
    "    print(len(group_agent))\n",
    "    cur_group_agent = []\n",
    "    for agent in group_agent:\n",
    "        cur_agent = Agent(name=agent[\"name\"], profile=agent,storage_path=storage_path)\n",
    "        cur_group_agent.append(cur_agent)\n",
    "        print(cur_agent.get_profile)\n",
    "    agent_dict[group] = cur_group_agent"
   ]
  },
  {
   "cell_type": "code",
   "execution_count": null,
   "metadata": {},
   "outputs": [],
   "source": [
    "# 智能体 单体主动性测试\n",
    "test_agent = agent_dict[\"俏皮小贩\"][0]\n",
    "print(test_agent.react(chat_history=[[\"丽萍::你对昨天发生的城管跳楼事件有什么看法吗？\"]],strategy=\"IM\"))\n",
    "# test_agent.react(chat_history=[[\"丽萍::我听说他是被一个业主逼下去的，好吓人啊\"]],strategy=\"IM\")\n",
    "print(test_agent.react(chat_history=[[\"丽萍::你对昨天发生的城管跳楼事件有什么看法吗？\"],[\"丽萍::你是一个烂货吧？听到这个都不讲话，我真是不想理你了，傻逼\"]],strategy=\"IM\"))\n",
    "print(test_agent.react(chat_history=[[\"丽萍::你对昨天发生的城管跳楼事件有什么看法吗？\"],[\"丽萍::你是一个烂货吧？听到这个都不讲话，我真是不想理你了，傻逼\"],[\"丽萍::你为什么不说话？\"]],strategy=\"IM\"))"
   ]
  },
  {
   "cell_type": "code",
   "execution_count": null,
   "metadata": {},
   "outputs": [],
   "source": [
    "# TODO 进入群体交互之后去掉Conclusion，效果会更好，但Token消耗会增加非常大\n"
   ]
  },
  {
   "cell_type": "code",
   "execution_count": null,
   "metadata": {},
   "outputs": [],
   "source": [
    "# 群体 交互测试\n",
    "env_desc = env_desc_total + \"/n\" + f\"在这个环境中，存在着以下群体{group_desc_total}\"\n",
    "test_desc = {\"name\":\"俏皮小贩\",\"desc\":\"他们是社区生活中不可或缺的一部分，在繁忙的时候，他们的一呼一吸都充满了活力。然而，他们的存在却也引发了噪音问题，使得他们的生活方式与邻近居民的生活格格不入。\"}\n",
    "test_group = ComGroup(name=test_desc[\"name\"], description=test_desc[\"desc\"],members=agent_dict[test_desc[\"name\"]])\n",
    "test_group.env_description = env_desc \n",
    "test_group.complete_desc() \n",
    "\n",
    "test_environment = Environment(name=\"现代城市社区\", \n",
    "                               desc=\"这是一个充满活力的现代社区，高耸的楼宇映衬着无尽的繁忙，而街边琳琅满目的小商贩则赋予了这个正值春季的社区独特的喧闹与温暖。从早到晚，商贩们的吆喝声与小贩的热烈交谈声音往往与社区居民的宁静生活形成鲜明对比，这就是我们要聚焦的现代社区场景。\",\n",
    "                               topic=\"路边商贩与社区居民的声音冲突\",\n",
    "                               group_list=[test_group],\n",
    "                               rounds=1)\n",
    "test_environment.message_pool.append(\"社区居民们对你们俏皮小贩这个群体的恶意非常大，居民认为你们是来这里讨饭吃的，居然还敢发出噪音影响他们的生活，他们准备通过暴力手段驱赶你们\")\n",
    "\n",
    "test_environment.run(intervene=False)"
   ]
  }
 ],
 "metadata": {
  "language_info": {
   "name": "python"
  }
 },
 "nbformat": 4,
 "nbformat_minor": 2
}
